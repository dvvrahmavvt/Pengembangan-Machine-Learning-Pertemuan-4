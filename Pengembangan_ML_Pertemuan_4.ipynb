{
  "nbformat": 4,
  "nbformat_minor": 0,
  "metadata": {
    "colab": {
      "provenance": []
    },
    "kernelspec": {
      "name": "python3",
      "display_name": "Python 3"
    },
    "language_info": {
      "name": "python"
    }
  },
  "cells": [
    {
      "cell_type": "code",
      "execution_count": 1,
      "metadata": {
        "id": "CZxaccj4ngi3"
      },
      "outputs": [],
      "source": [
        "!mkdir Pengembangan_Machine_Learning4"
      ]
    },
    {
      "cell_type": "code",
      "source": [
        "cd Pengembangan_Machine_Learning4"
      ],
      "metadata": {
        "colab": {
          "base_uri": "https://localhost:8080/"
        },
        "id": "yC0YLKUfoBAy",
        "outputId": "76f99949-b0b8-4619-fb0f-847659c4a9ae"
      },
      "execution_count": 2,
      "outputs": [
        {
          "output_type": "stream",
          "name": "stdout",
          "text": [
            "/content/Pengembangan_Machine_Learning4\n"
          ]
        }
      ]
    },
    {
      "cell_type": "code",
      "source": [
        "!pwd"
      ],
      "metadata": {
        "colab": {
          "base_uri": "https://localhost:8080/"
        },
        "id": "qMW_QP00oDGu",
        "outputId": "b6058c2f-3675-4bc2-ffff-4a3aa117d1a6"
      },
      "execution_count": 3,
      "outputs": [
        {
          "output_type": "stream",
          "name": "stdout",
          "text": [
            "/content/Pengembangan_Machine_Learning4\n"
          ]
        }
      ]
    },
    {
      "cell_type": "code",
      "source": [
        "%%writefile requirements.txt\n",
        "streamlit"
      ],
      "metadata": {
        "colab": {
          "base_uri": "https://localhost:8080/"
        },
        "id": "X4JGfEfDoHOa",
        "outputId": "08a6242c-ac28-400c-fcdc-09bf5964fedd"
      },
      "execution_count": 23,
      "outputs": [
        {
          "output_type": "stream",
          "name": "stdout",
          "text": [
            "Writing requirements.txt\n"
          ]
        }
      ]
    },
    {
      "cell_type": "code",
      "source": [
        "!ls"
      ],
      "metadata": {
        "colab": {
          "base_uri": "https://localhost:8080/"
        },
        "id": "72UNXfrPoJMq",
        "outputId": "6bff93be-80a3-449d-e4bc-b23d0bb2dc65"
      },
      "execution_count": 24,
      "outputs": [
        {
          "output_type": "stream",
          "name": "stdout",
          "text": [
            "Home.py  logs.txt      package.json\t  pages\n",
            "images\t node_modules  package-lock.json  requirements.txt\n"
          ]
        }
      ]
    },
    {
      "cell_type": "code",
      "source": [
        "!cat requirements.txt"
      ],
      "metadata": {
        "colab": {
          "base_uri": "https://localhost:8080/"
        },
        "id": "-tQjJahsoLiX",
        "outputId": "73f365e0-a928-4302-c1cf-769f3ddd92fb"
      },
      "execution_count": 25,
      "outputs": [
        {
          "output_type": "stream",
          "name": "stdout",
          "text": [
            "streamlit\n"
          ]
        }
      ]
    },
    {
      "cell_type": "code",
      "source": [
        "!pip list | grep streamlit"
      ],
      "metadata": {
        "id": "Dgf4UG5noNnC"
      },
      "execution_count": 26,
      "outputs": []
    },
    {
      "cell_type": "code",
      "source": [
        "!pip install streamlit -q"
      ],
      "metadata": {
        "colab": {
          "base_uri": "https://localhost:8080/"
        },
        "id": "TrzyWNqcoP7_",
        "outputId": "8251e76c-7fe5-4a01-9603-1b2540180bdb"
      },
      "execution_count": 27,
      "outputs": [
        {
          "output_type": "stream",
          "name": "stdout",
          "text": [
            "\u001b[2K     \u001b[90m━━━━━━━━━━━━━━━━━━━━━━━━━━━━━━━━━━━━━━━━\u001b[0m \u001b[32m44.3/44.3 kB\u001b[0m \u001b[31m2.5 MB/s\u001b[0m eta \u001b[36m0:00:00\u001b[0m\n",
            "\u001b[2K   \u001b[90m━━━━━━━━━━━━━━━━━━━━━━━━━━━━━━━━━━━━━━━━\u001b[0m \u001b[32m9.9/9.9 MB\u001b[0m \u001b[31m49.0 MB/s\u001b[0m eta \u001b[36m0:00:00\u001b[0m\n",
            "\u001b[2K   \u001b[90m━━━━━━━━━━━━━━━━━━━━━━━━━━━━━━━━━━━━━━━━\u001b[0m \u001b[32m6.9/6.9 MB\u001b[0m \u001b[31m63.7 MB/s\u001b[0m eta \u001b[36m0:00:00\u001b[0m\n",
            "\u001b[2K   \u001b[90m━━━━━━━━━━━━━━━━━━━━━━━━━━━━━━━━━━━━━━━━\u001b[0m \u001b[32m79.1/79.1 kB\u001b[0m \u001b[31m4.8 MB/s\u001b[0m eta \u001b[36m0:00:00\u001b[0m\n",
            "\u001b[?25h"
          ]
        }
      ]
    },
    {
      "cell_type": "code",
      "source": [
        "%%writefile Home.py\n",
        "import streamlit as st\n",
        "\n",
        "# Judul halaman\n",
        "st.set_page_config(page_title=\"Beranda HIMASATA\", layout=\"wide\")\n",
        "st.title(\"Selamat Datang di HIMASATA 👋\")\n",
        "\n",
        "# Container utama\n",
        "with st.container():\n",
        "    st.header(\"🏛️ Himpunan Mahasiswa Sains Data (HIMASATA)\")\n",
        "    st.write(\"\"\"\n",
        "    HIMASATA merupakan organisasi kemahasiswaan di bidang **Sains Data** yang bertujuan untuk:\n",
        "    - Mengembangkan minat dan bakat mahasiswa dalam bidang **Data Science & Teknologi**,\n",
        "    - Menyediakan wadah kolaborasi dan pengembangan diri, serta\n",
        "    - Menjadi jembatan antara mahasiswa, industri, dan komunitas teknologi.\n",
        "\n",
        "    Kami mengajak Anda semua untuk bergabung dalam semangat kolaborasi, inovasi, dan pertumbuhan!\n",
        "    \"\"\")\n",
        "\n",
        "# Gambar atau ilustrasi kegiatan\n",
        "st.image(\"/content/Pengembangan_Machine_Learning4/images/logo.png\", caption=\"Logo HIMASATA\", use_column_width=True)\n",
        "\n",
        "# Kolom informasi singkat\n",
        "with st.container():\n",
        "    col1, col2 = st.columns(2)\n",
        "\n",
        "    with col1:\n",
        "        st.subheader(\"🎯 Visi\")\n",
        "        st.write(\"Menjadi organisasi unggulan dalam pengembangan dan penerapan ilmu Data Science di tingkat universitas dan nasional.\")\n",
        "\n",
        "        st.subheader(\"🤝 Kolaborasi\")\n",
        "        st.write(\"Kami terbuka untuk bekerja sama dalam kegiatan riset, pelatihan, dan kompetisi berbasis data.\")\n",
        "\n",
        "    with col2:\n",
        "        st.subheader(\"📢 Kegiatan Unggulan\")\n",
        "        st.markdown(\"\"\"\n",
        "        - Data Science Workshop Series\n",
        "        - Kompetisi Data Nasional\n",
        "        - Study Group Machine Learning\n",
        "        - Kunjungan Industri & Alumni Talk\n",
        "        - Pelatihan Portofolio Data Sains\n",
        "        \"\"\")\n",
        "\n",
        "# Call to action\n",
        "st.markdown(\"---\")\n",
        "st.success(\"📌 *Ayo bergabung bersama HIMASATA dan jadi bagian dari masa depan data!*\")\n"
      ],
      "metadata": {
        "colab": {
          "base_uri": "https://localhost:8080/"
        },
        "id": "IgU36TULpZsG",
        "outputId": "c41b22e7-78aa-4f23-f2ce-3bba9d68f032"
      },
      "execution_count": 34,
      "outputs": [
        {
          "output_type": "stream",
          "name": "stdout",
          "text": [
            "Writing Home.py\n"
          ]
        }
      ]
    },
    {
      "cell_type": "code",
      "source": [
        "pwd"
      ],
      "metadata": {
        "colab": {
          "base_uri": "https://localhost:8080/",
          "height": 35
        },
        "id": "FvYzLzZtpkHO",
        "outputId": "84904376-fe00-41a3-a96b-849a74d33c5d"
      },
      "execution_count": 9,
      "outputs": [
        {
          "output_type": "execute_result",
          "data": {
            "text/plain": [
              "'/content/Pengembangan_Machine_Learning4'"
            ],
            "application/vnd.google.colaboratory.intrinsic+json": {
              "type": "string"
            }
          },
          "metadata": {},
          "execution_count": 9
        }
      ]
    },
    {
      "cell_type": "code",
      "source": [
        "!ls"
      ],
      "metadata": {
        "colab": {
          "base_uri": "https://localhost:8080/"
        },
        "id": "Y0swRuG1plfL",
        "outputId": "8e3c922b-163c-4d8a-edf1-86a1febab33f"
      },
      "execution_count": 10,
      "outputs": [
        {
          "output_type": "stream",
          "name": "stdout",
          "text": [
            "Home.py  requirements.txt\n"
          ]
        }
      ]
    },
    {
      "cell_type": "code",
      "source": [
        "!mkdir pages"
      ],
      "metadata": {
        "id": "6UHhJDpapoV-"
      },
      "execution_count": 11,
      "outputs": []
    },
    {
      "cell_type": "code",
      "source": [
        "!ls"
      ],
      "metadata": {
        "colab": {
          "base_uri": "https://localhost:8080/"
        },
        "id": "1VQmpYD1pqcR",
        "outputId": "cc5e0b40-b3d0-42b0-cedb-cc1c83314b7f"
      },
      "execution_count": 12,
      "outputs": [
        {
          "output_type": "stream",
          "name": "stdout",
          "text": [
            "Home.py  pages\trequirements.txt\n"
          ]
        }
      ]
    },
    {
      "cell_type": "code",
      "source": [
        "!ls pages"
      ],
      "metadata": {
        "id": "aLPCwAqtpsQv"
      },
      "execution_count": 13,
      "outputs": []
    },
    {
      "cell_type": "code",
      "source": [
        "%%writefile pages/Contoh_Pertemuan_4.py\n",
        "# Menggunakan notasi objek\n",
        "import streamlit as st\n",
        "import pandas as pd\n",
        "import numpy as np\n",
        "import time\n",
        "\n",
        "# Sidebar\n",
        "pilih = st.sidebar.selectbox(\n",
        "    \"Pilihlah algoritma yang ingin digunakan\",\n",
        "    (\"SVM\", \"KKN\", \"K-Means\")\n",
        ")\n",
        "\n",
        "# Menggunakan notasi \"with\"\n",
        "with st.sidebar:\n",
        "    pilih_radio = st.radio(\n",
        "        \"Pilihlah type data\",\n",
        "        (\"Numerik\", \"Kategorik\")\n",
        "    )\n",
        "\n",
        "# Kolom untuk chart dan table\n",
        "col1, col2 = st.columns(2)\n",
        "with col1:\n",
        "    chart_data = pd.DataFrame(\n",
        "        np.random.randn(5, 3),\n",
        "        columns=['Kolom1', 'Kolom2', 'Kolom3']\n",
        "    )\n",
        "    st.table(chart_data)\n",
        "with col2:\n",
        "    chart_data = pd.DataFrame(\n",
        "        np.random.randn(5, 3),\n",
        "        columns=['Kolom1', 'Kolom2', 'Kolom3']\n",
        "    )\n",
        "    st.line_chart(chart_data)\n",
        "\n",
        "# Cara pertama menggunakan with (Container)\n",
        "with st.container():\n",
        "    st.write(\"Ini di dalam container\")\n",
        "st.write(\"Ini di luar container\")\n",
        "\n",
        "# Cara kedua menggunakan objek\n",
        "klik = st.container()\n",
        "klik.write(\"Ini adalah contoh container\")\n",
        "klik.bar_chart({\"data\": [1, 5, 2, 6, 2, 1]})\n",
        "\n",
        "# Cara pertama menggunakan with (Expander)\n",
        "with st.expander(\"Klik untuk melihat expander\"):\n",
        "    st.write('Ini adalah contoh expander')\n",
        "    st.bar_chart({\"data\": [1, 5, 2, 6, 2, 1]})\n",
        "\n",
        "# Cara kedua menggunakan objek\n",
        "klik = st.expander(\"Klik untuk melihat expander\")\n",
        "klik.write('Ini adalah contoh expander')\n",
        "klik.bar_chart({\"data\": [1, 5, 2, 6, 2, 1]})\n",
        "\n",
        "# Penggunaan Tab\n",
        "tab1, tab2 = st.tabs([\"📉Chart\", \"📑Data\"])\n",
        "data = np.random.randn(10, 1)\n",
        "tab1.subheader(\"Contoh tab dengan grafik\")\n",
        "tab1.line_chart(data)\n",
        "tab2.subheader(\"Contoh tab dengan data\")\n",
        "tab2.write(data)\n",
        "\n",
        "# Cara pertama menggunakan with (Empty)\n",
        "with st.empty():\n",
        "    for seconds in range(10):\n",
        "        st.write(f\"⌛ {seconds} detik akan selesai\")\n",
        "        time.sleep(1)\n",
        "        st.write(\"✔️ 10 detik sudah selesai\")\n",
        "\n",
        "# Cara kedua menggunakan objek\n",
        "klik = st.empty()\n",
        "for seconds in range(10):\n",
        "    klik.write(f\"⌛ {seconds} detik kedua akan selesai\")\n",
        "    time.sleep(1)\n",
        "klik.write(\"✔️ 10 detik sudah selesai\")\n",
        "\n",
        "# Membuat form dengan key tertentu\n",
        "with st.form(key='my_form'):\n",
        "    # Menambahkan input widget di dalam form\n",
        "    name = st.text_input('Enter your name:')\n",
        "    age = st.number_input('Enter your age:', min_value=1, max_value=100)\n",
        "    # Tombol submit\n",
        "    submit_button = st.form_submit_button('Submit')\n",
        "\n",
        "    # Menampilkan data jika tombol submit diklik\n",
        "    if submit_button:\n",
        "        st.write(f'Name: {name}')\n",
        "        st.write(f'Age: {age}')\n",
        "\n",
        "# Modal Dialog\n",
        "# Fungsi untuk menampilkan dialog\n",
        "if st.button(\"Tampilkan Dialog\"):\n",
        "    with st.dialog(title=\"Perhatian\"):\n",
        "        st.write(\"Ini adalah contoh penggunaan modal dialog di Streamlit.\")\n",
        "        if st.button(\"Tutup\"):\n",
        "            st.write(\"Dialog ditutup.\")"
      ],
      "metadata": {
        "colab": {
          "base_uri": "https://localhost:8080/"
        },
        "id": "SDjBYLt2px99",
        "outputId": "ec690eb1-d158-4efe-e47d-2ca2e27e19a8"
      },
      "execution_count": 14,
      "outputs": [
        {
          "output_type": "stream",
          "name": "stdout",
          "text": [
            "Writing pages/Contoh_Pertemuan_4.py\n"
          ]
        }
      ]
    },
    {
      "cell_type": "code",
      "source": [
        "%%writefile pages/Latihan_Pertemuan_4.py\n",
        "import streamlit as st\n",
        "\n",
        "# Sidebar untuk navigasi\n",
        "st.sidebar.title(\"Registrasi E-Commerce\")\n",
        "st.sidebar.write(\"Isi data diri untuk mendaftar.\")\n",
        "username = st.sidebar.text_input(\"Username\")\n",
        "email = st.sidebar.text_input(\"Email\")\n",
        "\n",
        "# Container untuk informasi tambahan\n",
        "with st.container():\n",
        "    st.header(\"Informasi Pribadi\")\n",
        "    st.text_input(\"Nama Lengkap\")\n",
        "    st.text_input(\"Alamat\")\n",
        "\n",
        "# Expander untuk pertanyaan tambahan\n",
        "with st.expander(\"Punya pertanyaan?\"):\n",
        "    st.write(\"Tanyakan pada kami melalui form di bawah ini.\")\n",
        "\n",
        "# Pilihan jenis akun\n",
        "tabs = st.selectbox(\"Pilih jenis akun:\", [\"Pelanggan\", \"Penjual\"])\n",
        "\n",
        "# Form untuk pengisian data\n",
        "with st.form(key='registration_form'):\n",
        "    phone = st.text_input(\"Nomor Telepon\")\n",
        "    password = st.text_input(\"Password\", type=\"password\")\n",
        "    submit_button = st.form_submit_button(\"Daftar\")\n",
        "\n",
        "if submit_button:\n",
        "    st.success(f\"Selamat datang {username}!\")\n",
        "    st.write(\"Akun Anda telah berhasil dibuat.\")\n",
        "\n",
        "# Info tambahan sebagai pengganti modal dialog\n",
        "if st.button(\"Info Registrasi\"):\n",
        "    st.info(\"Pastikan data yang dimasukkan sudah benar sebelum mengirimkan formulir.\")"
      ],
      "metadata": {
        "colab": {
          "base_uri": "https://localhost:8080/"
        },
        "id": "rburzp1qp4ls",
        "outputId": "d5572aed-d4d5-4338-ba37-ef4cad0ec39b"
      },
      "execution_count": 15,
      "outputs": [
        {
          "output_type": "stream",
          "name": "stdout",
          "text": [
            "Writing pages/Latihan_Pertemuan_4.py\n"
          ]
        }
      ]
    },
    {
      "cell_type": "code",
      "source": [
        "!mkdir images"
      ],
      "metadata": {
        "id": "UeKFoZhOqcPm"
      },
      "execution_count": 16,
      "outputs": []
    },
    {
      "cell_type": "code",
      "source": [
        "%%writefile pages/Tugas_Pertemuan_4.py\n",
        "import streamlit as st\n",
        "\n",
        "# Sidebar untuk navigasi\n",
        "st.sidebar.title(\"Navigasi HIMASATA\")\n",
        "st.sidebar.write(\"Silakan pilih halaman yang ingin diakses.\")\n",
        "page = st.sidebar.selectbox(\"Menu\", [\"Beranda\", \"Profil Organisasi\", \"Pendaftaran Anggota\", \"Kontak\"])\n",
        "\n",
        "# Container utama\n",
        "with st.container():\n",
        "    if page == \"Beranda\":\n",
        "        st.title(\"Selamat Datang di HIMASATA\")\n",
        "        st.text(\"HIMASATA adalah Himpunan Mahasiswa Sains Data yang aktif dalam riset, teknologi, dan pengembangan diri mahasiswa.\")\n",
        "        st.image(\"/content/Pengembangan_Machine_Learning4/images/infografis agustus 2023.jpg\", caption=\"HIMASATA mengikuti perlombaan Infografis dalam Data Science\")\n",
        "\n",
        "    elif page == \"Profil Organisasi\":\n",
        "        st.header(\"Tentang HIMASATA\")\n",
        "        st.text(\"\"\"HIMASATA bertujuan menjadi wadah pengembangan keilmuan, minat, dan bakat mahasiswa dalam bidang Sains Data serta menjalin kolaborasi lintas disiplin.\"\"\")\n",
        "\n",
        "    elif page == \"Pendaftaran Anggota\":\n",
        "        st.header(\"Formulir Pendaftaran HIMASATA\")\n",
        "        nama = st.text_input(\"Nama Lengkap\")\n",
        "        nim = st.text_input(\"NIM\")\n",
        "        minat = st.text_input(\"Minat Utama dalam Data Science\")\n",
        "        alasan = st.text_area(\"Alasan Bergabung dengan HIMASATA\")\n",
        "        if st.button(\"Daftar\"):\n",
        "            st.success(f\"Terima kasih, {nama}! Pendaftaran Anda telah diterima.\")\n",
        "\n",
        "    elif page == \"Kontak\":\n",
        "        st.header(\"Hubungi HIMASATA\")\n",
        "        st.text(\"Email: himasata@nusamandiri.ac.id\")\n",
        "        st.text(\"Instagram: @himasata_nusamandiri\")\n",
        "        st.text(\"WhatsApp: +62 813-9876-1234\")\n"
      ],
      "metadata": {
        "colab": {
          "base_uri": "https://localhost:8080/"
        },
        "id": "pmNyz271qTLa",
        "outputId": "23ffef0f-bf1e-486f-a92e-03dddefae9b9"
      },
      "execution_count": 17,
      "outputs": [
        {
          "output_type": "stream",
          "name": "stdout",
          "text": [
            "Writing pages/Tugas_Pertemuan_4.py\n"
          ]
        }
      ]
    },
    {
      "cell_type": "code",
      "source": [
        "!npm install localtunnel"
      ],
      "metadata": {
        "colab": {
          "base_uri": "https://localhost:8080/"
        },
        "id": "slFvC61GqbTT",
        "outputId": "6512c4d0-8634-47b4-ff1d-fa1fc604c75d"
      },
      "execution_count": 18,
      "outputs": [
        {
          "output_type": "stream",
          "name": "stdout",
          "text": [
            "\u001b[1G\u001b[0K⠙\u001b[1G\u001b[0K⠹\u001b[1G\u001b[0K⠸\u001b[1G\u001b[0K⠼\u001b[1G\u001b[0K⠴\u001b[1G\u001b[0K⠦\u001b[1G\u001b[0K⠧\u001b[1G\u001b[0K⠇\u001b[1G\u001b[0K⠏\u001b[1G\u001b[0K⠋\u001b[1G\u001b[0K⠙\u001b[1G\u001b[0K⠹\u001b[1G\u001b[0K⠸\u001b[1G\u001b[0K⠼\u001b[1G\u001b[0K⠴\u001b[1G\u001b[0K⠦\u001b[1G\u001b[0K⠧\u001b[1G\u001b[0K⠇\u001b[1G\u001b[0K⠏\u001b[1G\u001b[0K⠋\u001b[1G\u001b[0K⠙\u001b[1G\u001b[0K\n",
            "added 22 packages in 3s\n",
            "\u001b[1G\u001b[0K⠙\u001b[1G\u001b[0K\n",
            "\u001b[1G\u001b[0K⠙\u001b[1G\u001b[0K3 packages are looking for funding\n",
            "\u001b[1G\u001b[0K⠙\u001b[1G\u001b[0K  run `npm fund` for details\n",
            "\u001b[1G\u001b[0K⠙\u001b[1G\u001b[0K"
          ]
        }
      ]
    },
    {
      "cell_type": "code",
      "source": [
        "!pwd"
      ],
      "metadata": {
        "colab": {
          "base_uri": "https://localhost:8080/"
        },
        "id": "TY39H8RqrXhf",
        "outputId": "fc4cf42a-1c7e-4c49-b2af-8ff4c1fd04c6"
      },
      "execution_count": 19,
      "outputs": [
        {
          "output_type": "stream",
          "name": "stdout",
          "text": [
            "/content/Pengembangan_Machine_Learning4\n"
          ]
        }
      ]
    },
    {
      "cell_type": "code",
      "source": [
        "!streamlit run /content/Pengembangan_Machine_Learning4/Home.py &>/content/Pengembangan_Machine_Learning4/logs.txt &"
      ],
      "metadata": {
        "id": "c6GbyJf0raLU"
      },
      "execution_count": 35,
      "outputs": []
    },
    {
      "cell_type": "code",
      "source": [
        "!timeout 30 cat /content/Pengembangan_Machine_Learning4/logs.txt"
      ],
      "metadata": {
        "colab": {
          "base_uri": "https://localhost:8080/"
        },
        "id": "N0GKgSwLrfii",
        "outputId": "d645793e-2251-434b-c1b5-e94ffe867923"
      },
      "execution_count": 36,
      "outputs": [
        {
          "output_type": "stream",
          "name": "stdout",
          "text": [
            "\n",
            "Collecting usage statistics. To deactivate, set browser.gatherUsageStats to false.\n",
            "\n",
            "\n",
            "  You can now view your Streamlit app in your browser.\n",
            "\n",
            "  Local URL: http://localhost:8501\n",
            "  Network URL: http://172.28.0.12:8501\n",
            "  External URL: http://34.91.39.181:8501\n",
            "\n"
          ]
        }
      ]
    },
    {
      "cell_type": "code",
      "source": [
        "import requests\n",
        "requests.get('https://api.ipify.org').text"
      ],
      "metadata": {
        "colab": {
          "base_uri": "https://localhost:8080/",
          "height": 35
        },
        "id": "m9CKr5Hbr-OT",
        "outputId": "cae21d70-1fc1-467c-9e8d-d9358d4a51b2"
      },
      "execution_count": 37,
      "outputs": [
        {
          "output_type": "execute_result",
          "data": {
            "text/plain": [
              "'34.91.39.181'"
            ],
            "application/vnd.google.colaboratory.intrinsic+json": {
              "type": "string"
            }
          },
          "metadata": {},
          "execution_count": 37
        }
      ]
    },
    {
      "cell_type": "code",
      "source": [
        "!npx localtunnel --port 8501"
      ],
      "metadata": {
        "colab": {
          "base_uri": "https://localhost:8080/"
        },
        "id": "mnK_J4N7r8k3",
        "outputId": "9f4bf5c7-ede3-4abc-d451-8dd80b4dce50"
      },
      "execution_count": null,
      "outputs": [
        {
          "output_type": "stream",
          "name": "stdout",
          "text": [
            "\u001b[1G\u001b[0K⠙\u001b[1G\u001b[0Kyour url is: https://green-cities-kick.loca.lt\n"
          ]
        }
      ]
    }
  ]
}